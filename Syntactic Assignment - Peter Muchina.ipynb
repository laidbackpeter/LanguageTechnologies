{
 "cells": [
  {
   "cell_type": "markdown",
   "metadata": {},
   "source": [
    "# Syntactic Assignment \n",
    "# Peter Muchina\n",
    "# P52/37461/2020"
   ]
  },
  {
   "cell_type": "markdown",
   "metadata": {},
   "source": [
    "### This python notebook contains different methods of natual language processing. I have added comments and headings in and before some cells to give full context of what is happening. This notebook rerquires a minimum of python 3.6."
   ]
  },
  {
   "cell_type": "code",
   "execution_count": 1,
   "metadata": {},
   "outputs": [],
   "source": [
    "# Import libs that will be used for processing\n",
    "import pandas as pd\n",
    "import string\n",
    "import nltk\n",
    "from nltk.corpus import stopwords\n",
    "import re"
   ]
  },
  {
   "cell_type": "markdown",
   "metadata": {},
   "source": [
    "### One has to download the stanford libraries. You can download them using this link https://stanfordnlp.github.io/CoreNLP/download.html"
   ]
  },
  {
   "cell_type": "code",
   "execution_count": 2,
   "metadata": {},
   "outputs": [],
   "source": [
    "# Import stanford parser. This will be used for syntatic parsing\n",
    "import os\n",
    "from nltk.parse.corenlp import CoreNLPServer\n",
    "\n",
    "# Use the path where you have save the downloaded jar files\n",
    "STANFORD = os.path.join(\"/Users/peter.muchina/Desktop/School/Year_1/Semester_1/CCI508_Language_Technologies/Standford_libs/\",\n",
    "                        \"stanford-corenlp-4.1.0\")\n",
    "\n",
    "# Create the server\n",
    "server = CoreNLPServer(\n",
    "   os.path.join(STANFORD, \"stanford-corenlp-4.1.0.jar\"),\n",
    "   os.path.join(STANFORD, \"stanford-corenlp-4.1.0-models.jar\"),    \n",
    ")\n",
    "\n",
    "# Start the server in the background\n",
    "server.start()"
   ]
  },
  {
   "cell_type": "code",
   "execution_count": 3,
   "metadata": {},
   "outputs": [],
   "source": [
    "path = '/Users/peter.muchina/Downloads/TweetRaw.csv'\n",
    "data = pd.read_csv(path, sep=',')"
   ]
  },
  {
   "cell_type": "code",
   "execution_count": 4,
   "metadata": {},
   "outputs": [
    {
     "data": {
      "text/html": [
       "<div>\n",
       "<style scoped>\n",
       "    .dataframe tbody tr th:only-of-type {\n",
       "        vertical-align: middle;\n",
       "    }\n",
       "\n",
       "    .dataframe tbody tr th {\n",
       "        vertical-align: top;\n",
       "    }\n",
       "\n",
       "    .dataframe thead th {\n",
       "        text-align: right;\n",
       "    }\n",
       "</style>\n",
       "<table border=\"1\" class=\"dataframe\">\n",
       "  <thead>\n",
       "    <tr style=\"text-align: right;\">\n",
       "      <th></th>\n",
       "      <th>Date</th>\n",
       "      <th>Tweet</th>\n",
       "    </tr>\n",
       "  </thead>\n",
       "  <tbody>\n",
       "    <tr>\n",
       "      <th>0</th>\n",
       "      <td>;2015-08-03 15:35;0;0;</td>\n",
       "      <td>@ComedyCentralKE These words can kill a Luhya ...</td>\n",
       "    </tr>\n",
       "    <tr>\n",
       "      <th>1</th>\n",
       "      <td>;2014-07-11 23:29;0;0;</td>\n",
       "      <td>The little luhya that remains in me always    ...</td>\n",
       "    </tr>\n",
       "    <tr>\n",
       "      <th>2</th>\n",
       "      <td>;2014-02-07 18:36;0;2;</td>\n",
       "      <td>@cheernatwildcat kill it at battle this weeken...</td>\n",
       "    </tr>\n",
       "    <tr>\n",
       "      <th>3</th>\n",
       "      <td>;2011-10-09 19:34;0;0;</td>\n",
       "      <td>@HomeboyzRadio H.B.R luv dat luhya hit luhyas ...</td>\n",
       "    </tr>\n",
       "    <tr>\n",
       "      <th>4</th>\n",
       "      <td>;2015-08-21 09:27;2;3;</td>\n",
       "      <td>#HangOutFriday hahaha ball ya terby( derby)  L...</td>\n",
       "    </tr>\n",
       "  </tbody>\n",
       "</table>\n",
       "</div>"
      ],
      "text/plain": [
       "                     Date                                              Tweet\n",
       "0  ;2015-08-03 15:35;0;0;  @ComedyCentralKE These words can kill a Luhya ...\n",
       "1  ;2014-07-11 23:29;0;0;  The little luhya that remains in me always    ...\n",
       "2  ;2014-02-07 18:36;0;2;  @cheernatwildcat kill it at battle this weeken...\n",
       "3  ;2011-10-09 19:34;0;0;  @HomeboyzRadio H.B.R luv dat luhya hit luhyas ...\n",
       "4  ;2015-08-21 09:27;2;3;  #HangOutFriday hahaha ball ya terby( derby)  L..."
      ]
     },
     "execution_count": 4,
     "metadata": {},
     "output_type": "execute_result"
    }
   ],
   "source": [
    "data.head()"
   ]
  },
  {
   "cell_type": "code",
   "execution_count": 5,
   "metadata": {},
   "outputs": [
    {
     "data": {
      "text/plain": [
       "20020"
      ]
     },
     "execution_count": 5,
     "metadata": {},
     "output_type": "execute_result"
    }
   ],
   "source": [
    "tweets = data['Tweet'].tolist()\n",
    "len(tweets)"
   ]
  },
  {
   "cell_type": "code",
   "execution_count": 6,
   "metadata": {},
   "outputs": [],
   "source": [
    "# Get Swahili stop words\n",
    "url = 'https://github.com/stopwords-iso/stopwords-sw/blob/master/raw/gh-stopwords-json-sw.txt?raw=true'\n",
    "# Read file and add headers\n",
    "swa_stop_words_df = pd.read_csv(url, error_bad_lines=False)\n",
    "swa_stop_words_df.columns = ['SwaStopWords']\n",
    "swa_stop_words_df.head()\n",
    "swa_stop_words = swa_stop_words_df['SwaStopWords'].tolist()\n",
    "swa_stop_words = [word.lower() for word in swa_stop_words]\n",
    "eng_stop_words = stopwords.words('english')\n",
    "stop_words = swa_stop_words + eng_stop_words"
   ]
  },
  {
   "cell_type": "code",
   "execution_count": 7,
   "metadata": {},
   "outputs": [],
   "source": [
    "# Remove punctuations, non_ascii chars, stop_words, html, emoticons\n",
    "cleanr = re.compile('<.*?>|&([a-z0-9]+|#[0-9]{1,6}|#x[0-9a-f]{1,6});')\n",
    "emoji_pattern = re.compile(\"[\"\n",
    "                               u\"\\U0001F600-\\U0001F64F\"  # emoticons\n",
    "                               u\"\\U0001F300-\\U0001F5FF\"  # symbols & pictographs\n",
    "                               u\"\\U0001F680-\\U0001F6FF\"  # transport & map symbols\n",
    "                               u\"\\U0001F1E0-\\U0001F1FF\"  # flags (iOS)\n",
    "                               u\"\\U00002500-\\U00002BEF\"  # chinese char\n",
    "                               u\"\\U00002702-\\U000027B0\"\n",
    "                               u\"\\U00002702-\\U000027B0\"\n",
    "                               u\"\\U000024C2-\\U0001F251\"\n",
    "                               u\"\\U0001f926-\\U0001f937\"\n",
    "                               u\"\\U00010000-\\U0010ffff\"\n",
    "                               u\"\\u2640-\\u2642\"\n",
    "                               u\"\\u2600-\\u2B55\"\n",
    "                               u\"\\u200d\"\n",
    "                               u\"\\u23cf\"\n",
    "                               u\"\\u23e9\"\n",
    "                               u\"\\u231a\"\n",
    "                               u\"\\ufe0f\"  # dingbats\n",
    "                               u\"\\u3030\"\n",
    "                               \"]+\", flags=re.UNICODE)\n",
    "# List to store dicts\n",
    "cleaned_data_list = []\n",
    "for tweet in tweets[0:1000]:\n",
    "    # Tokenize lower tweet\n",
    "    tokenized = nltk.word_tokenize(tweet)\n",
    "    # Part of speech tagging\n",
    "    tagged = nltk.pos_tag(tokenized)\n",
    "    # Named Entity\n",
    "    named_entity = nltk.ne_chunk(tagged)\n",
    "    named_entities = []\n",
    "    for tagged_tree in named_entity:\n",
    "       if hasattr(tagged_tree, 'label'):\n",
    "          entity_name = ' '.join(c[0] for c in tagged_tree.leaves()) #\n",
    "          entity_type = tagged_tree.label() # get NE category\n",
    "          named_entities.append((entity_name, entity_type))\n",
    "    # Remove stop words\n",
    "    no_stop_words = \" \".join([word for word in tweet.split() if word.lower() not in stop_words])\n",
    "    # Remove punctuation\n",
    "    no_punc_tweet = no_stop_words.translate(str.maketrans('', '', string.punctuation))\n",
    "    # Remove non-ascii character and replace with space\n",
    "    no_non_ascii = ''.join([i if ord(i) < 128 else ' ' for i in no_punc_tweet])\n",
    "    # Remove html\n",
    "    no_html = re.sub(cleanr, '', no_non_ascii)\n",
    "    #Remove emoticons\n",
    "    no_emoji = re.sub(emoji_pattern, '', no_html)\n",
    "    # Convert to lower\n",
    "    lower_tweet = no_emoji.lower()\n",
    "    # append to data frame\n",
    "    cleaned_data = {\n",
    "        'original_tweet' : tweet,\n",
    "        'tokenized': tokenized,\n",
    "        'tagged': tagged,\n",
    "        'named_entity': named_entities,\n",
    "        'no_stop_words' : no_stop_words, \n",
    "        'no_punc_tweet' : no_punc_tweet,\n",
    "        'no_non_ascii': no_non_ascii,\n",
    "        'no_html': no_html,\n",
    "        'no_emoji': no_emoji,\n",
    "        'lower_tweet': lower_tweet\n",
    "    }\n",
    "    cleaned_data_list.append(cleaned_data)\n",
    "# Create empty data frame for comparison\n",
    "column_names = [\"original_tweet\",\"tokenized\", \"tagged\", \"named_entity\", \"no_stop_words\", \"no_punc_tweet\",\n",
    "                \"no_non_ascii\", \"no_html\", \"no_emoji\", \"lower_tweet\"]\n",
    "final_data = pd.DataFrame(cleaned_data_list, columns=column_names)"
   ]
  },
  {
   "cell_type": "code",
   "execution_count": 7,
   "metadata": {},
   "outputs": [
    {
     "data": {
      "text/html": [
       "<div>\n",
       "<style scoped>\n",
       "    .dataframe tbody tr th:only-of-type {\n",
       "        vertical-align: middle;\n",
       "    }\n",
       "\n",
       "    .dataframe tbody tr th {\n",
       "        vertical-align: top;\n",
       "    }\n",
       "\n",
       "    .dataframe thead th {\n",
       "        text-align: right;\n",
       "    }\n",
       "</style>\n",
       "<table border=\"1\" class=\"dataframe\">\n",
       "  <thead>\n",
       "    <tr style=\"text-align: right;\">\n",
       "      <th></th>\n",
       "      <th>original_tweet</th>\n",
       "      <th>tokenized</th>\n",
       "      <th>tagged</th>\n",
       "      <th>named_entity</th>\n",
       "      <th>no_stop_words</th>\n",
       "      <th>no_punc_tweet</th>\n",
       "      <th>no_non_ascii</th>\n",
       "      <th>no_html</th>\n",
       "      <th>no_emoji</th>\n",
       "      <th>lower_tweet</th>\n",
       "    </tr>\n",
       "  </thead>\n",
       "  <tbody>\n",
       "    <tr>\n",
       "      <th>0</th>\n",
       "      <td>@ComedyCentralKE These words can kill a Luhya 'Wacha Ugali ipoe'</td>\n",
       "      <td>[@, ComedyCentralKE, These, words, can, kill, a, Luhya, 'Wacha, Ugali, ipoe, ']</td>\n",
       "      <td>[(@, JJ), (ComedyCentralKE, NNP), (These, DT), (words, NNS), (can, MD), (kill, VB), (a, DT), (Luhya, NNP), ('Wacha, NNP), (Ugali, NNP), (ipoe, NN), (', '')]</td>\n",
       "      <td>[(ComedyCentralKE, ORGANIZATION)]</td>\n",
       "      <td>@ComedyCentralKE words kill Luhya 'Wacha Ugali ipoe'</td>\n",
       "      <td>ComedyCentralKE words kill Luhya Wacha Ugali ipoe</td>\n",
       "      <td>ComedyCentralKE words kill Luhya Wacha Ugali ipoe</td>\n",
       "      <td>ComedyCentralKE words kill Luhya Wacha Ugali ipoe</td>\n",
       "      <td>ComedyCentralKE words kill Luhya Wacha Ugali ipoe</td>\n",
       "      <td>comedycentralke words kill luhya wacha ugali ipoe</td>\n",
       "    </tr>\n",
       "    <tr>\n",
       "      <th>1</th>\n",
       "      <td>The little luhya that remains in me always    Sitokingi kills me</td>\n",
       "      <td>[The, little, luhya, that, remains, in, me, always, Sitokingi, kills, me]</td>\n",
       "      <td>[(The, DT), (little, JJ), (luhya, NN), (that, WDT), (remains, VBZ), (in, IN), (me, PRP), (always, RB), (Sitokingi, NNP), (kills, NNS), (me, PRP)]</td>\n",
       "      <td>[]</td>\n",
       "      <td>little luhya remains always Sitokingi kills</td>\n",
       "      <td>little luhya remains always Sitokingi kills</td>\n",
       "      <td>little luhya remains always Sitokingi kills</td>\n",
       "      <td>little luhya remains always Sitokingi kills</td>\n",
       "      <td>little luhya remains always Sitokingi kills</td>\n",
       "      <td>little luhya remains always sitokingi kills</td>\n",
       "    </tr>\n",
       "    <tr>\n",
       "      <th>2</th>\n",
       "      <td>@cheernatwildcat kill it at battle this weekend wildcat!! #luhya</td>\n",
       "      <td>[@, cheernatwildcat, kill, it, at, battle, this, weekend, wildcat, !, !, #, luhya]</td>\n",
       "      <td>[(@, JJ), (cheernatwildcat, NN), (kill, VB), (it, PRP), (at, IN), (battle, NN), (this, DT), (weekend, NN), (wildcat, NN), (!, .), (!, .), (#, #), (luhya, NN)]</td>\n",
       "      <td>[]</td>\n",
       "      <td>@cheernatwildcat kill battle weekend wildcat!! #luhya</td>\n",
       "      <td>cheernatwildcat kill battle weekend wildcat luhya</td>\n",
       "      <td>cheernatwildcat kill battle weekend wildcat luhya</td>\n",
       "      <td>cheernatwildcat kill battle weekend wildcat luhya</td>\n",
       "      <td>cheernatwildcat kill battle weekend wildcat luhya</td>\n",
       "      <td>cheernatwildcat kill battle weekend wildcat luhya</td>\n",
       "    </tr>\n",
       "    <tr>\n",
       "      <th>3</th>\n",
       "      <td>@HomeboyzRadio H.B.R luv dat luhya hit luhyas always kill awoooh</td>\n",
       "      <td>[@, HomeboyzRadio, H.B.R, luv, dat, luhya, hit, luhyas, always, kill, awoooh]</td>\n",
       "      <td>[(@, JJ), (HomeboyzRadio, NNP), (H.B.R, NNP), (luv, VBZ), (dat, JJ), (luhya, NN), (hit, VBD), (luhyas, JJ), (always, RB), (kill, VBP), (awoooh, NNS)]</td>\n",
       "      <td>[(HomeboyzRadio, ORGANIZATION)]</td>\n",
       "      <td>@HomeboyzRadio H.B.R luv dat luhya hit luhyas always kill awoooh</td>\n",
       "      <td>HomeboyzRadio HBR luv dat luhya hit luhyas always kill awoooh</td>\n",
       "      <td>HomeboyzRadio HBR luv dat luhya hit luhyas always kill awoooh</td>\n",
       "      <td>HomeboyzRadio HBR luv dat luhya hit luhyas always kill awoooh</td>\n",
       "      <td>HomeboyzRadio HBR luv dat luhya hit luhyas always kill awoooh</td>\n",
       "      <td>homeboyzradio hbr luv dat luhya hit luhyas always kill awoooh</td>\n",
       "    </tr>\n",
       "    <tr>\n",
       "      <th>4</th>\n",
       "      <td>#HangOutFriday hahaha ball ya terby( derby)  Luhyas will kill me</td>\n",
       "      <td>[#, HangOutFriday, hahaha, ball, ya, terby, (, derby, ), Luhyas, will, kill, me]</td>\n",
       "      <td>[(#, #), (HangOutFriday, NNP), (hahaha, VB), (ball, NN), (ya, NN), (terby, NN), ((, (), (derby, JJ), (), )), (Luhyas, NNP), (will, MD), (kill, VB), (me, PRP)]</td>\n",
       "      <td>[(Luhyas, PERSON)]</td>\n",
       "      <td>#HangOutFriday hahaha ball terby( derby) Luhyas kill</td>\n",
       "      <td>HangOutFriday hahaha ball terby derby Luhyas kill</td>\n",
       "      <td>HangOutFriday hahaha ball terby derby Luhyas kill</td>\n",
       "      <td>HangOutFriday hahaha ball terby derby Luhyas kill</td>\n",
       "      <td>HangOutFriday hahaha ball terby derby Luhyas kill</td>\n",
       "      <td>hangoutfriday hahaha ball terby derby luhyas kill</td>\n",
       "    </tr>\n",
       "  </tbody>\n",
       "</table>\n",
       "</div>"
      ],
      "text/plain": [
       "                                                     original_tweet  \\\n",
       "0  @ComedyCentralKE These words can kill a Luhya 'Wacha Ugali ipoe'   \n",
       "1  The little luhya that remains in me always    Sitokingi kills me   \n",
       "2  @cheernatwildcat kill it at battle this weekend wildcat!! #luhya   \n",
       "3  @HomeboyzRadio H.B.R luv dat luhya hit luhyas always kill awoooh   \n",
       "4  #HangOutFriday hahaha ball ya terby( derby)  Luhyas will kill me   \n",
       "\n",
       "                                                                            tokenized  \\\n",
       "0     [@, ComedyCentralKE, These, words, can, kill, a, Luhya, 'Wacha, Ugali, ipoe, ']   \n",
       "1           [The, little, luhya, that, remains, in, me, always, Sitokingi, kills, me]   \n",
       "2  [@, cheernatwildcat, kill, it, at, battle, this, weekend, wildcat, !, !, #, luhya]   \n",
       "3       [@, HomeboyzRadio, H.B.R, luv, dat, luhya, hit, luhyas, always, kill, awoooh]   \n",
       "4    [#, HangOutFriday, hahaha, ball, ya, terby, (, derby, ), Luhyas, will, kill, me]   \n",
       "\n",
       "                                                                                                                                                           tagged  \\\n",
       "0    [(@, JJ), (ComedyCentralKE, NNP), (These, DT), (words, NNS), (can, MD), (kill, VB), (a, DT), (Luhya, NNP), ('Wacha, NNP), (Ugali, NNP), (ipoe, NN), (', '')]   \n",
       "1               [(The, DT), (little, JJ), (luhya, NN), (that, WDT), (remains, VBZ), (in, IN), (me, PRP), (always, RB), (Sitokingi, NNP), (kills, NNS), (me, PRP)]   \n",
       "2  [(@, JJ), (cheernatwildcat, NN), (kill, VB), (it, PRP), (at, IN), (battle, NN), (this, DT), (weekend, NN), (wildcat, NN), (!, .), (!, .), (#, #), (luhya, NN)]   \n",
       "3           [(@, JJ), (HomeboyzRadio, NNP), (H.B.R, NNP), (luv, VBZ), (dat, JJ), (luhya, NN), (hit, VBD), (luhyas, JJ), (always, RB), (kill, VBP), (awoooh, NNS)]   \n",
       "4  [(#, #), (HangOutFriday, NNP), (hahaha, VB), (ball, NN), (ya, NN), (terby, NN), ((, (), (derby, JJ), (), )), (Luhyas, NNP), (will, MD), (kill, VB), (me, PRP)]   \n",
       "\n",
       "                        named_entity  \\\n",
       "0  [(ComedyCentralKE, ORGANIZATION)]   \n",
       "1                                 []   \n",
       "2                                 []   \n",
       "3    [(HomeboyzRadio, ORGANIZATION)]   \n",
       "4                 [(Luhyas, PERSON)]   \n",
       "\n",
       "                                                      no_stop_words  \\\n",
       "0              @ComedyCentralKE words kill Luhya 'Wacha Ugali ipoe'   \n",
       "1                       little luhya remains always Sitokingi kills   \n",
       "2             @cheernatwildcat kill battle weekend wildcat!! #luhya   \n",
       "3  @HomeboyzRadio H.B.R luv dat luhya hit luhyas always kill awoooh   \n",
       "4              #HangOutFriday hahaha ball terby( derby) Luhyas kill   \n",
       "\n",
       "                                                   no_punc_tweet  \\\n",
       "0              ComedyCentralKE words kill Luhya Wacha Ugali ipoe   \n",
       "1                    little luhya remains always Sitokingi kills   \n",
       "2              cheernatwildcat kill battle weekend wildcat luhya   \n",
       "3  HomeboyzRadio HBR luv dat luhya hit luhyas always kill awoooh   \n",
       "4              HangOutFriday hahaha ball terby derby Luhyas kill   \n",
       "\n",
       "                                                    no_non_ascii  \\\n",
       "0              ComedyCentralKE words kill Luhya Wacha Ugali ipoe   \n",
       "1                    little luhya remains always Sitokingi kills   \n",
       "2              cheernatwildcat kill battle weekend wildcat luhya   \n",
       "3  HomeboyzRadio HBR luv dat luhya hit luhyas always kill awoooh   \n",
       "4              HangOutFriday hahaha ball terby derby Luhyas kill   \n",
       "\n",
       "                                                         no_html  \\\n",
       "0              ComedyCentralKE words kill Luhya Wacha Ugali ipoe   \n",
       "1                    little luhya remains always Sitokingi kills   \n",
       "2              cheernatwildcat kill battle weekend wildcat luhya   \n",
       "3  HomeboyzRadio HBR luv dat luhya hit luhyas always kill awoooh   \n",
       "4              HangOutFriday hahaha ball terby derby Luhyas kill   \n",
       "\n",
       "                                                        no_emoji  \\\n",
       "0              ComedyCentralKE words kill Luhya Wacha Ugali ipoe   \n",
       "1                    little luhya remains always Sitokingi kills   \n",
       "2              cheernatwildcat kill battle weekend wildcat luhya   \n",
       "3  HomeboyzRadio HBR luv dat luhya hit luhyas always kill awoooh   \n",
       "4              HangOutFriday hahaha ball terby derby Luhyas kill   \n",
       "\n",
       "                                                     lower_tweet  \n",
       "0              comedycentralke words kill luhya wacha ugali ipoe  \n",
       "1                    little luhya remains always sitokingi kills  \n",
       "2              cheernatwildcat kill battle weekend wildcat luhya  \n",
       "3  homeboyzradio hbr luv dat luhya hit luhyas always kill awoooh  \n",
       "4              hangoutfriday hahaha ball terby derby luhyas kill  "
      ]
     },
     "execution_count": 7,
     "metadata": {},
     "output_type": "execute_result"
    }
   ],
   "source": [
    "# Allow pandas to display all columns\n",
    "pd.set_option('display.max_columns', None)\n",
    "# Allow pandas to show full content of a cell\n",
    "pd.set_option('display.max_colwidth', None)\n",
    "final_data.head()"
   ]
  },
  {
   "cell_type": "markdown",
   "metadata": {},
   "source": [
    "### Computing the parse tree for each column in our dataframe is very expensive. For that reason, I will be drawing a parse tree for a single record at any given time. The user has the ability to parse any record by choosing which column they would like to process from the data frame and also choosing the  index of the record they want to create a tree for. The index start from 0 - 20020. AFter viewing the tree, ensure you run cell 21 so that the server running in the background is stopped."
   ]
  },
  {
   "cell_type": "code",
   "execution_count": 20,
   "metadata": {},
   "outputs": [
    {
     "data": {
      "image/png": "[encoded data removed]",
      "text/plain": [
       "Tree('ROOT', [Tree('FRAG', [Tree('ADJP', [Tree('JJ', ['@cheernatwildcat'])]), Tree('S', [Tree('VP', [Tree('VB', ['kill']), Tree('NP', [Tree('PRP', ['it'])]), Tree('PP', [Tree('IN', ['at']), Tree('NP', [Tree('NN', ['battle'])])])])]), Tree('NP', [Tree('DT', ['this']), Tree('NN', ['weekend']), Tree('NN', ['wildcat'])]), Tree('.', ['!!'])])])"
      ]
     },
     "execution_count": 20,
     "metadata": {},
     "output_type": "execute_result"
    }
   ],
   "source": [
    "# Import stanford parser from nltk\n",
    "from nltk.parse import CoreNLPParser\n",
    "parser = CoreNLPParser()\n",
    "tweets = final_data['original_tweet'].tolist()\n",
    "\n",
    "parse = next(parser.parse_text(tweets[2]))\n",
    "parse"
   ]
  },
  {
   "cell_type": "code",
   "execution_count": 21,
   "metadata": {},
   "outputs": [],
   "source": [
    "# Stop the CoreNLP server\n",
    "server.stop()"
   ]
  },
  {
   "cell_type": "code",
   "execution_count": null,
   "metadata": {},
   "outputs": [],
   "source": []
  }
 ],
 "metadata": {
  "kernelspec": {
   "display_name": "lang_tech",
   "language": "python",
   "name": "lang_tech"
  },
  "language_info": {
   "codemirror_mode": {
    "name": "ipython",
    "version": 3
   },
   "file_extension": ".py",
   "mimetype": "text/x-python",
   "name": "python",
   "nbconvert_exporter": "python",
   "pygments_lexer": "ipython3",
   "version": "3.8.3"
  }
 },
 "nbformat": 4,
 "nbformat_minor": 4
}
